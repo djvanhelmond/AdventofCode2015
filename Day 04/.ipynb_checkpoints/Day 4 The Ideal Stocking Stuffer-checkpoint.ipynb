{
 "cells": [
  {
   "cell_type": "code",
   "execution_count": 4,
   "metadata": {
    "collapsed": false
   },
   "outputs": [
    {
     "name": "stdout",
     "output_type": "stream",
     "text": [
      "Star 1 answer: yzbqklnj282749 (value: 000002c655df7738246e88f6c1c43eb7)\n",
      "1000000 no match\n",
      "2000000 no match\n",
      "3000000 no match\n",
      "4000000 no match\n",
      "5000000 no match\n",
      "6000000 no match\n",
      "7000000 no match\n",
      "8000000 no match\n",
      "9000000 no match\n",
      "Star 2 answer: yzbqklnj9962624 (value: 0000004b347bf4b398b3f62ace7cd301)\n"
     ]
    }
   ],
   "source": [
    "#!/usr/bin/python\n",
    "\n",
    "import hashlib\n",
    "import re\n",
    "\n",
    "salt = \"yzbqklnj\"\n",
    "\n",
    "found1 = False\n",
    "star1 = \"00000\"\n",
    "found2 = False\n",
    "star2 = \"000000\"\n",
    "\n",
    "i = 1\n",
    "while not (found1 and found2):\n",
    "    if i % 1000000 == 0:\n",
    "        print (\"%i no match\" % i)\n",
    "    md5 = hashlib.md5()\n",
    "    md5.update((salt + str(i)).encode())\n",
    "    if (md5.hexdigest().startswith(star1)):\n",
    "        if not found1:\n",
    "            print(\"Star 1 answer: %s%s (value: %s)\" % (salt, i, md5.hexdigest()))\n",
    "            found1 = True\n",
    "        if (md5.hexdigest().startswith(star2)):\n",
    "            print(\"Star 2 answer: %s%s (value: %s)\" % (salt, i, md5.hexdigest()))\n",
    "            found2 = True\n",
    "    i += 1\n",
    "\n",
    "\n"
   ]
  },
  {
   "cell_type": "code",
   "execution_count": null,
   "metadata": {
    "collapsed": true
   },
   "outputs": [],
   "source": []
  }
 ],
 "metadata": {
  "kernelspec": {
   "display_name": "Python 3",
   "language": "python",
   "name": "python3"
  },
  "language_info": {
   "codemirror_mode": {
    "name": "ipython",
    "version": 3
   },
   "file_extension": ".py",
   "mimetype": "text/x-python",
   "name": "python",
   "nbconvert_exporter": "python",
   "pygments_lexer": "ipython3",
   "version": "3.5.0"
  }
 },
 "nbformat": 4,
 "nbformat_minor": 0
}
