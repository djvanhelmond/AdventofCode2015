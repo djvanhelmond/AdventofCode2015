{
 "cells": [
  {
   "cell_type": "code",
   "execution_count": 5,
   "metadata": {
    "collapsed": true
   },
   "outputs": [],
   "source": [
    "#! /usr/bin/python\n",
    "import re\n",
    "import itertools"
   ]
  },
  {
   "cell_type": "code",
   "execution_count": 31,
   "metadata": {
    "collapsed": false
   },
   "outputs": [],
   "source": [
    "def read_cities ( filename ):\n",
    "    match_line = re.compile('(^[a-zA-Z]*) to ([a-zA-Z]*) = ([0-9]*)')\n",
    "    table = {}\n",
    "    with open(filename) as f:\n",
    "        for linen in f:\n",
    "            line = linen.rstrip('\\n')\n",
    "            if not (match_line.findall(line) == []):\n",
    "                dist = (match_line.findall(line))\n",
    "                table[(dist[0][0], dist[0][1])] = dist[0][2]\n",
    "                table[(dist[0][1], dist[0][0])] = dist[0][2]\n",
    "    return ( table )\n",
    "\n",
    "def unique_cities ( table ):\n",
    "    cities = []\n",
    "    for link in table:\n",
    "        if not link[0] in cities:\n",
    "            cities.append(link[0])\n",
    "        if not link[1] in cities:\n",
    "            cities.append(link[1])\n",
    "    return (cities)\n",
    "\n",
    "def give_distance ( city_a, city_b, table ):\n",
    "    return table[(city_a, city_b)]\n",
    "\n"
   ]
  },
  {
   "cell_type": "code",
   "execution_count": 39,
   "metadata": {
    "collapsed": false
   },
   "outputs": [],
   "source": [
    "#########################################################################\n",
    "\n",
    "filename = './input'\n",
    "longest = 0\n",
    "shortest = 99999999\n",
    "\n",
    "distance_table = read_cities ( filename )\n",
    "all_cities = unique_cities(distance_table)\n",
    "\n",
    "all = itertools.permutations(all_cities)\n",
    "for route in all:\n",
    "    distance = 0\n",
    "    for i in range(0, len(route)-1):\n",
    "        distance += int(give_distance(route[i], route[i+1], distance_table))\n",
    "#    print (route, distance)\n",
    "    if distance < shortest:\n",
    "        shortest = distance\n",
    "    if distance > longest:\n",
    "        longest = distance"
   ]
  },
  {
   "cell_type": "code",
   "execution_count": 42,
   "metadata": {
    "collapsed": false
   },
   "outputs": [
    {
     "name": "stdout",
     "output_type": "stream",
     "text": [
      "shortest route: 207\n",
      "longest route: 804\n"
     ]
    }
   ],
   "source": [
    "print(\"shortest route: %s\" % shortest)\n",
    "print(\"longest route: %s\" % longest)"
   ]
  },
  {
   "cell_type": "code",
   "execution_count": null,
   "metadata": {
    "collapsed": true
   },
   "outputs": [],
   "source": []
  }
 ],
 "metadata": {
  "kernelspec": {
   "display_name": "Python 3",
   "language": "python",
   "name": "python3"
  },
  "language_info": {
   "codemirror_mode": {
    "name": "ipython",
    "version": 3
   },
   "file_extension": ".py",
   "mimetype": "text/x-python",
   "name": "python",
   "nbconvert_exporter": "python",
   "pygments_lexer": "ipython3",
   "version": "3.5.0"
  }
 },
 "nbformat": 4,
 "nbformat_minor": 0
}
