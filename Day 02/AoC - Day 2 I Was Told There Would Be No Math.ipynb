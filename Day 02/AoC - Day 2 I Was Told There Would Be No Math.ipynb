{
 "cells": [
  {
   "cell_type": "code",
   "execution_count": 3,
   "metadata": {
    "collapsed": false
   },
   "outputs": [
    {
     "name": "stdout",
     "output_type": "stream",
     "text": [
      "paper 1606483 (star 1 answer)\n",
      "ribbon 3842356 (star 2 answer)\n"
     ]
    }
   ],
   "source": [
    "#! /usr/bin/python\n",
    "\n",
    "filename = './input'\n",
    "\n",
    "paper = 0\n",
    "ribbon = 0\n",
    "\n",
    "with open(filename) as f:\n",
    "  for linen in f:\n",
    "    line = linen.rstrip('\\n')\n",
    "    size = line.split('x')\n",
    "    l = int(size[0])\n",
    "    w = int(size[1])\n",
    "    h = int(size[2])\n",
    "\n",
    "#   paper calculations\n",
    "    a = l*w\n",
    "    b = w*h\n",
    "    c = l*h\n",
    "    d = min(a, b, c)\n",
    "    paper += 2*a+2*b+2*c+d\n",
    "\n",
    "#   ribbon calculations\n",
    "    f1 = l+l+w+w\n",
    "    f2 = w+w+h+h\n",
    "    f3 = l+l+h+h\n",
    "    fs = min (f1, f2, f3)\n",
    "    bow = l*w*h\n",
    "    ribbon += fs+bow\n",
    "\n",
    "print(\"paper %d (star 1 answer)\" % paper)\n",
    "print(\"ribbon %d (star 2 answer)\" % ribbon)\n",
    "    "
   ]
  },
  {
   "cell_type": "code",
   "execution_count": null,
   "metadata": {
    "collapsed": true
   },
   "outputs": [],
   "source": []
  }
 ],
 "metadata": {
  "kernelspec": {
   "display_name": "Python 3",
   "language": "python",
   "name": "python3"
  },
  "language_info": {
   "codemirror_mode": {
    "name": "ipython",
    "version": 3
   },
   "file_extension": ".py",
   "mimetype": "text/x-python",
   "name": "python",
   "nbconvert_exporter": "python",
   "pygments_lexer": "ipython3",
   "version": "3.5.0"
  }
 },
 "nbformat": 4,
 "nbformat_minor": 0
}
