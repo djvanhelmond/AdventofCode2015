{
 "cells": [
  {
   "cell_type": "code",
   "execution_count": 16,
   "metadata": {
    "collapsed": true
   },
   "outputs": [],
   "source": [
    "#!/usr/bin/python\n",
    "import itertools\n"
   ]
  },
  {
   "cell_type": "code",
   "execution_count": 17,
   "metadata": {
    "collapsed": false
   },
   "outputs": [],
   "source": [
    "flatten_iter = itertools.chain.from_iterable\n",
    "def factors(n):\n",
    "    return set(flatten_iter((i, n//i) \n",
    "                for i in range(1, int(n**0.5)+1) if n % i == 0))        "
   ]
  },
  {
   "cell_type": "code",
   "execution_count": 27,
   "metadata": {
    "collapsed": false
   },
   "outputs": [
    {
     "name": "stdout",
     "output_type": "stream",
     "text": [
      "Checking house: 10000\n",
      "Checking house: 20000\n",
      "Checking house: 30000\n",
      "Checking house: 40000\n",
      "Checking house: 50000\n",
      "Checking house: 60000\n",
      "Checking house: 70000\n",
      "Checking house: 80000\n",
      "Checking house: 90000\n",
      "Checking house: 100000\n",
      "Checking house: 110000\n",
      "Checking house: 120000\n",
      "Checking house: 130000\n",
      "Checking house: 140000\n",
      "Checking house: 150000\n",
      "Checking house: 160000\n",
      "Checking house: 170000\n",
      "Checking house: 180000\n",
      "Checking house: 190000\n",
      "Checking house: 200000\n",
      "Checking house: 210000\n",
      "Checking house: 220000\n",
      "Checking house: 230000\n",
      "Checking house: 240000\n",
      "Checking house: 250000\n",
      "Checking house: 260000\n",
      "Checking house: 270000\n",
      "Checking house: 280000\n",
      "Checking house: 290000\n",
      "Checking house: 300000\n",
      "Checking house: 310000\n",
      "Checking house: 320000\n",
      "Checking house: 330000\n",
      "Checking house: 340000\n",
      "Checking house: 350000\n",
      "Checking house: 360000\n",
      "Checking house: 370000\n",
      "Checking house: 380000\n",
      "Checking house: 390000\n",
      "Checking house: 400000\n",
      "Checking house: 410000\n",
      "Checking house: 420000\n",
      "Checking house: 430000\n",
      "Checking house: 440000\n",
      "Checking house: 450000\n",
      "Checking house: 460000\n",
      "Checking house: 470000\n",
      "Checking house: 480000\n",
      "Checking house: 490000\n",
      "Checking house: 500000\n",
      "Checking house: 510000\n",
      "Checking house: 520000\n",
      "Checking house: 530000\n",
      "Checking house: 540000\n",
      "Checking house: 550000\n",
      "Checking house: 560000\n",
      "Checking house: 570000\n",
      "Checking house: 580000\n",
      "Checking house: 590000\n",
      "Checking house: 600000\n",
      "Checking house: 610000\n",
      "Checking house: 620000\n",
      "Checking house: 630000\n",
      "Checking house: 640000\n",
      "Checking house: 650000\n",
      "Checking house: 660000\n",
      "Checking house: 670000\n",
      "Checking house: 680000\n",
      "Checking house: 690000\n",
      "Checking house: 700000\n",
      "Checking house: 710000\n",
      "Checking house: 720000\n",
      "Checking house: 730000\n",
      "Checking house: 740000\n",
      "Checking house: 750000\n",
      "Checking house: 760000\n",
      "Checking house: 770000\n",
      "Checking house: 780000\n",
      "Checking house: 790000\n",
      "Checking house: 800000\n",
      "Checking house: 810000\n",
      "Checking house: 820000\n",
      "Checking house: 830000\n",
      "house 831600\n"
     ]
    }
   ],
   "source": [
    "goal = 34000000\n",
    "found = False\n",
    "housenumber = 0\n",
    "\n",
    "while not found:\n",
    "    housenumber += 1\n",
    "    if housenumber % 10000 == 0:\n",
    "        print (\"Checking house: %d\" % (housenumber))\n",
    "    visiting_elfs = list(factors(housenumber))\n",
    "    non_lazy_visiting_elfs = []\n",
    "    for elf_id in visiting_elfs:\n",
    "        if (elf_id > housenumber/50):\n",
    "            non_lazy_visiting_elfs.append(elf_id)\n",
    "        presents = sum(non_lazy_visiting_elfs)*11\n",
    "\n",
    "    if (presents) > goal:\n",
    "        print (\"house\", housenumber)\n",
    "        found = True"
   ]
  },
  {
   "cell_type": "code",
   "execution_count": 24,
   "metadata": {
    "collapsed": false
   },
   "outputs": [
    {
     "name": "stdout",
     "output_type": "stream",
     "text": [
      "house 831600\n"
     ]
    }
   ],
   "source": [
    "print (\"house\", housenumber)"
   ]
  },
  {
   "cell_type": "code",
   "execution_count": null,
   "metadata": {
    "collapsed": true
   },
   "outputs": [],
   "source": []
  }
 ],
 "metadata": {
  "kernelspec": {
   "display_name": "Python 3",
   "language": "python",
   "name": "python3"
  },
  "language_info": {
   "codemirror_mode": {
    "name": "ipython",
    "version": 3
   },
   "file_extension": ".py",
   "mimetype": "text/x-python",
   "name": "python",
   "nbconvert_exporter": "python",
   "pygments_lexer": "ipython3",
   "version": "3.5.0"
  }
 },
 "nbformat": 4,
 "nbformat_minor": 0
}
