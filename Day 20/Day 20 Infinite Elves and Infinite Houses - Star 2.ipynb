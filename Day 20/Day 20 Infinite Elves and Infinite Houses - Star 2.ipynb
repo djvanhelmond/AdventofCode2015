{
 "cells": [
  {
   "cell_type": "code",
   "execution_count": 16,
   "metadata": {
    "collapsed": true
   },
   "outputs": [],
   "source": [
    "#!/usr/bin/python\n",
    "import itertools\n"
   ]
  },
  {
   "cell_type": "code",
   "execution_count": 17,
   "metadata": {
    "collapsed": false
   },
   "outputs": [],
   "source": [
    "flatten_iter = itertools.chain.from_iterable\n",
    "def factors(n):\n",
    "    return set(flatten_iter((i, n//i) \n",
    "                for i in range(1, int(n**0.5)+1) if n % i == 0))        "
   ]
  },
  {
   "cell_type": "code",
   "execution_count": null,
   "metadata": {
    "collapsed": true
   },
   "outputs": [],
   "source": [
    "goal = 34000000\n",
    "found = False\n",
    "housenumber = 0\n",
    "\n",
    "while not found:\n",
    "    housenumber += 1\n",
    "    if housenumber % 10000 == 0:\n",
    "        print (\"Checking house: %d\" % (housenumber))\n",
    "    visiting_elfs = list(factors(housenumber))\n",
    "    non_lazy_visiting_elfs = []\n",
    "    for elf_id in visiting_elfs:\n",
    "        if (elf_id > housenumber/50):\n",
    "            non_lazy_visiting_elfs.append(elf_id)\n",
    "        presents = sum(non_lazy_visiting_elfs)*11\n",
    "\n",
    "    if (presents) > goal:\n",
    "        print (\"house\", housenumber)\n",
    "        found = True"
   ]
  },
  {
   "cell_type": "code",
   "execution_count": 24,
   "metadata": {
    "collapsed": false
   },
   "outputs": [
    {
     "name": "stdout",
     "output_type": "stream",
     "text": [
      "house 831600\n"
     ]
    }
   ],
   "source": [
    "print (\"house\", housenumber)"
   ]
  },
  {
   "cell_type": "code",
   "execution_count": null,
   "metadata": {
    "collapsed": true
   },
   "outputs": [],
   "source": []
  }
 ],
 "metadata": {
  "kernelspec": {
   "display_name": "Python 3",
   "language": "python",
   "name": "python3"
  },
  "language_info": {
   "codemirror_mode": {
    "name": "ipython",
    "version": 3
   },
   "file_extension": ".py",
   "mimetype": "text/x-python",
   "name": "python",
   "nbconvert_exporter": "python",
   "pygments_lexer": "ipython3",
   "version": "3.5.0"
  }
 },
 "nbformat": 4,
 "nbformat_minor": 0
}
