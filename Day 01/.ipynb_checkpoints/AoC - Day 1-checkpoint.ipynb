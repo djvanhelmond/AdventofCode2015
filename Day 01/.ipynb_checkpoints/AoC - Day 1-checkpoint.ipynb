{
 "cells": [
  {
   "cell_type": "code",
   "execution_count": 6,
   "metadata": {
    "collapsed": false
   },
   "outputs": [
    {
     "name": "stdout",
     "output_type": "stream",
     "text": [
      "First time on floor -1:  1797 (star 2 answer)\n",
      "Ending on floor:  280 (star 1 answer)\n"
     ]
    }
   ],
   "source": [
    "#! /usr/bin/python\n",
    "\n",
    "filename = './input'\n",
    "floor = 0\n",
    "star2 = False\n",
    "\n",
    "with open(filename) as f:\n",
    "  while True:\n",
    "    c = f.read(1)\n",
    "    if not c:\n",
    "      break\n",
    "    else:\n",
    "      if (c == \"(\") or (c == \")\"):\n",
    "        if (c == \"(\"):\n",
    "          floor += 1\n",
    "        else:\n",
    "          floor -= 1\n",
    "      if floor == -1 and not star2:\n",
    "        print(\"First time on floor -1: \",f.tell(), \"(star 2 answer)\")\n",
    "        star2 = True\n",
    "\n",
    "print(\"Ending on floor: \",floor, \"(star 1 answer)\")"
   ]
  },
  {
   "cell_type": "code",
   "execution_count": null,
   "metadata": {
    "collapsed": true
   },
   "outputs": [],
   "source": []
  }
 ],
 "metadata": {
  "kernelspec": {
   "display_name": "Python 3",
   "language": "python",
   "name": "python3"
  },
  "language_info": {
   "codemirror_mode": {
    "name": "ipython",
    "version": 3
   },
   "file_extension": ".py",
   "mimetype": "text/x-python",
   "name": "python",
   "nbconvert_exporter": "python",
   "pygments_lexer": "ipython3",
   "version": "3.5.0"
  }
 },
 "nbformat": 4,
 "nbformat_minor": 0
}
