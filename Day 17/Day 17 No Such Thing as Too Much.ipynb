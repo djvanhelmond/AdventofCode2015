{
 "cells": [
  {
   "cell_type": "code",
   "execution_count": 41,
   "metadata": {
    "collapsed": true
   },
   "outputs": [],
   "source": [
    "#!/usr/bin/env python3\n",
    "import itertools"
   ]
  },
  {
   "cell_type": "code",
   "execution_count": null,
   "metadata": {
    "collapsed": false
   },
   "outputs": [],
   "source": []
  },
  {
   "cell_type": "code",
   "execution_count": 36,
   "metadata": {
    "collapsed": false
   },
   "outputs": [
    {
     "name": "stdout",
     "output_type": "stream",
     "text": [
      "[1, 0, 0, 0, 0, 0, 0, 0, 0, 0, 0, 0, 0, 0, 0, 0, 0, 0, 0, 0, 0, 0, 0, 0, 0, 0, 0, 0, 0, 0, 0, 0, 0, 0, 0, 0, 0, 0, 0, 0, 0, 0, 0, 0, 0, 0, 0, 0, 0, 0, 0, 0, 0, 0, 0, 0, 0, 0, 0, 0, 0, 0, 0, 0, 0, 0, 0, 0, 0, 0, 0, 0, 0, 0, 0, 0, 0, 0, 0, 0, 0, 0, 0, 0, 0, 0, 0, 0, 0, 0, 0, 0, 0, 0, 0, 0, 0, 0, 0, 0, 0, 0, 0, 0, 0, 0, 0, 0, 0, 0, 0, 0, 0, 0, 0, 0, 0, 0, 0, 0, 0, 0, 0, 0, 0, 0, 0, 0, 0, 0, 0, 0, 0, 0, 0, 0, 0, 0, 0, 0, 0, 0, 0, 0, 0, 0, 0, 0, 0, 0, 0]\n",
      "[1, 1, 0, 0, 0, 0, 1, 1, 0, 0, 0, 0, 0, 2, 3, 1, 1, 1, 2, 4, 4, 2, 1, 1, 3, 3, 2, 4, 2, 2, 5, 7, 7, 8, 8, 7, 8, 10, 11, 8, 8, 8, 9, 12, 14, 13, 11, 14, 21, 24, 21, 25, 22, 21, 29, 31, 27, 29, 30, 27, 32, 40, 45, 42, 46, 48, 51, 59, 66, 65, 57, 62, 71, 75, 76, 84, 79, 82, 99, 104, 104, 114, 122, 117, 127, 136, 144, 145, 148, 153, 159, 171, 187, 194, 187, 203, 221, 228, 238, 258, 249, 251, 279, 287, 291, 309, 323, 321, 342, 361, 379, 392, 409, 421, 426, 443, 475, 493, 483, 510, 528, 538, 569, 604, 601, 618, 662, 672, 692, 726, 748, 752, 783, 802, 830, 854, 881, 912, 921, 949, 1005, 1041, 1042, 1089, 1112, 1125, 1179, 1227, 1223, 1251, 1304]\n",
      "1304\n"
     ]
    }
   ],
   "source": [
    "filename = './input'\n",
    "\n",
    "bucket = []\n",
    "with open(filename) as f:\n",
    "    for line in f:\n",
    "        bucket.append(int(line.strip('\\n')))\n",
    "\n",
    "        \n",
    "memo = [1] + 150*[0]\n",
    "print (memo)\n",
    "\n",
    "for i in bucket:\n",
    "    memo = [ count if total < i else count + memo[total - i] for (total, count) in enumerate(memo) ]\n",
    "print (memo)\n",
    "\n",
    "print (memo[150])\n"
   ]
  },
  {
   "cell_type": "code",
   "execution_count": null,
   "metadata": {
    "collapsed": true
   },
   "outputs": [],
   "source": []
  },
  {
   "cell_type": "code",
   "execution_count": null,
   "metadata": {
    "collapsed": true
   },
   "outputs": [],
   "source": []
  }
 ],
 "metadata": {
  "kernelspec": {
   "display_name": "Python 3",
   "language": "python",
   "name": "python3"
  },
  "language_info": {
   "codemirror_mode": {
    "name": "ipython",
    "version": 3
   },
   "file_extension": ".py",
   "mimetype": "text/x-python",
   "name": "python",
   "nbconvert_exporter": "python",
   "pygments_lexer": "ipython3",
   "version": "3.5.0"
  }
 },
 "nbformat": 4,
 "nbformat_minor": 0
}
