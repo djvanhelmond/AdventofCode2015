{
 "cells": [
  {
   "cell_type": "code",
   "execution_count": 5,
   "metadata": {
    "collapsed": true
   },
   "outputs": [],
   "source": [
    "#! /usr/bin/python"
   ]
  },
  {
   "cell_type": "code",
   "execution_count": 73,
   "metadata": {
    "collapsed": false
   },
   "outputs": [],
   "source": [
    "def isnice( line ):\n",
    "#    print(line)\n",
    "\n",
    "#   It contains a pair of any two letters that appears at least twice in the string without overlapping, like xyxy (xy) or aabcdefgaa (aa), but not like aaa (aa, but it overlaps).\n",
    "    twopair = False\n",
    "    for i in range(0, len(line)-3):\n",
    "#        print(line[i]+line[i+1])\n",
    "        for j in range(i+2, len(line)-1):\n",
    "#            print(line[j]+line[j+1])\n",
    "            if line[i]+line[i+1] == line[j]+line[j+1]:\n",
    "                twopair = True\n",
    "                \n",
    "#   It contains at least one letter which repeats with exactly one letter between them, like xyx, abcdefeghi (efe), or even aaa.\n",
    "    oneletter = False\n",
    "    for i in range(0, len(line)-2):\n",
    "        if line[i] == line[i+2]:\n",
    "            oneletter = True\n",
    "\n",
    "#    print(twopair)\n",
    "#    print(oneletter)\n",
    "#    print(twopair and oneletter)\n",
    "    return twopair and oneletter"
   ]
  },
  {
   "cell_type": "code",
   "execution_count": 76,
   "metadata": {
    "collapsed": false
   },
   "outputs": [],
   "source": [
    "filename = './input'\n",
    "naughty = 0\n",
    "nice = 0\n",
    "\n",
    "with open(filename) as f:\n",
    "    for linen in f:\n",
    "        line = linen.rstrip('\\n')\n",
    "        if isnice(line):                 #      print(\"%s is nice\" % line)\n",
    "            nice += 1\n",
    "        else:                            #      print(\"%s is naughty\" % line)\n",
    "            naughty += 1                 #    print(\"--\")"
   ]
  },
  {
   "cell_type": "code",
   "execution_count": 77,
   "metadata": {
    "collapsed": false
   },
   "outputs": [
    {
     "name": "stdout",
     "output_type": "stream",
     "text": [
      "naughty strings: 945\n",
      "nice strings: 55\n"
     ]
    }
   ],
   "source": [
    "print (\"naughty strings: %d\" % naughty)\n",
    "print (\"nice strings: %d\" % nice)"
   ]
  }
 ],
 "metadata": {
  "kernelspec": {
   "display_name": "Python 3",
   "language": "python",
   "name": "python3"
  },
  "language_info": {
   "codemirror_mode": {
    "name": "ipython",
    "version": 3
   },
   "file_extension": ".py",
   "mimetype": "text/x-python",
   "name": "python",
   "nbconvert_exporter": "python",
   "pygments_lexer": "ipython3",
   "version": "3.5.0"
  }
 },
 "nbformat": 4,
 "nbformat_minor": 0
}
