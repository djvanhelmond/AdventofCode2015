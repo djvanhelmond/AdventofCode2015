{
 "cells": [
  {
   "cell_type": "code",
   "execution_count": 2,
   "metadata": {
    "collapsed": true
   },
   "outputs": [],
   "source": [
    "#! /usr/bin/python\n",
    "\n",
    "naughty = 0\n",
    "nice = 0"
   ]
  },
  {
   "cell_type": "code",
   "execution_count": 3,
   "metadata": {
    "collapsed": false
   },
   "outputs": [],
   "source": [
    "def isnice( line ):\n",
    "  vowels = ['a', 'e', 'u', 'i', 'o']\n",
    "  doubles = ['aa', 'bb', 'cc', 'dd', 'ee', 'ff', 'gg', 'hh', 'ii', 'jj', 'kk', 'll', 'mm', 'nn', 'oo', 'pp', 'qq', 'rr', 'ss', 'tt', 'uu', 'vv', 'ww', 'xx', 'yy', 'zz']\n",
    "  disallowed = ['ab', 'cd', 'pq', 'xy']\n",
    "  \n",
    "  # contains three vowels (aeiuo)\n",
    "  j = 0\n",
    "  for i in range(0, len(line)):\n",
    "    if line[i] in vowels: \n",
    "      j += 1\n",
    "  if j < 3:\n",
    "#    print(\"no 3 vowels\")\n",
    "    return False\n",
    "    \n",
    "  # at least one letter twice in a row\n",
    "  if sum([st in line for st in doubles]) == 0:\n",
    "#    print(\"no doubles\")\n",
    "    return False\n",
    "    \n",
    "  # does not contain 'ab', 'cd', 'pq' or 'xy'\n",
    "  if sum([st in line for st in disallowed]) > 0:\n",
    "#    print(\"disallowed combination\")\n",
    "    return False\n",
    "\n",
    "#  print(\"3 vowels\")\n",
    "#  print(\"double\")\n",
    "#  print(\"no disallowed (ab, cd, pq, xy)\")\n",
    "    \n",
    "  return True"
   ]
  },
  {
   "cell_type": "code",
   "execution_count": 4,
   "metadata": {
    "collapsed": false
   },
   "outputs": [],
   "source": [
    "filename = './input'\n",
    "\n",
    "with open(filename) as f:\n",
    "  for linen in f:\n",
    "    line = linen.rstrip('\\n')\n",
    "    if isnice(line):\n",
    "#      print(\"%s is nice\" % line)\n",
    "      nice += 1\n",
    "    else:\n",
    "#      print(\"%s is naughty\" % line)\n",
    "      naughty += 1\n",
    "#    print(\"--\")"
   ]
  },
  {
   "cell_type": "code",
   "execution_count": 6,
   "metadata": {
    "collapsed": false
   },
   "outputs": [
    {
     "name": "stdout",
     "output_type": "stream",
     "text": [
      "naughty strings: 745\n",
      "nice strings: 255\n"
     ]
    }
   ],
   "source": [
    "print (\"naughty strings: %d\" % naughty)\n",
    "print (\"nice strings: %d\" % nice)"
   ]
  },
  {
   "cell_type": "code",
   "execution_count": null,
   "metadata": {
    "collapsed": true
   },
   "outputs": [],
   "source": []
  }
 ],
 "metadata": {
  "kernelspec": {
   "display_name": "Python 3",
   "language": "python",
   "name": "python3"
  },
  "language_info": {
   "codemirror_mode": {
    "name": "ipython",
    "version": 3
   },
   "file_extension": ".py",
   "mimetype": "text/x-python",
   "name": "python",
   "nbconvert_exporter": "python",
   "pygments_lexer": "ipython3",
   "version": "3.5.0"
  }
 },
 "nbformat": 4,
 "nbformat_minor": 0
}
