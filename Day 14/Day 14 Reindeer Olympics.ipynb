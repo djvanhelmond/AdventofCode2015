{
 "cells": [
  {
   "cell_type": "code",
   "execution_count": 3,
   "metadata": {
    "collapsed": true
   },
   "outputs": [],
   "source": [
    "#!/usr/bin/env python3"
   ]
  },
  {
   "cell_type": "code",
   "execution_count": 17,
   "metadata": {
    "collapsed": false
   },
   "outputs": [],
   "source": [
    "class Reindeer:\n",
    "    def __init__(self, name, flyspeed, flytime, resttime):\n",
    "        self.name = name\n",
    "        self.flyspeed = int(flyspeed)\n",
    "        self.flytime = int(flytime)\n",
    "        self.resttime = int(resttime)\n",
    "        self.points = 0\n",
    "        \n",
    "    def distance(self, time):\n",
    "        full = (time // (self.flytime + self.resttime)) * self.flyspeed * self.flytime\n",
    "        rest = min(self.flytime, time % (self.flytime + self.resttime)) * self.flyspeed\n",
    "        return (full+rest)\n",
    "\n",
    "    def receive_award(self):\n",
    "        self.points += 1 \n",
    "\n",
    "    def tell_award(self):\n",
    "        return(self.points)"
   ]
  },
  {
   "cell_type": "code",
   "execution_count": 18,
   "metadata": {
    "collapsed": false
   },
   "outputs": [
    {
     "name": "stdout",
     "output_type": "stream",
     "text": [
      "Distance has the winning reindeer: 2660\n",
      "Points for the winning reindeer:  1256\n"
     ]
    }
   ],
   "source": [
    "filename = './input'\n",
    "deers = []\n",
    "attime = 2503\n",
    "\n",
    "\n",
    "with open(filename) as f:\n",
    "    for line in f:\n",
    "        deer = name, _, _, speed, _, _, fly, _, _, _, _, _, _, rest, _ = line.split()\n",
    "        deers.append(Reindeer(deer[0], deer[3], deer[6], deer[13]))\n",
    "\n",
    "print (\"Distance has the winning reindeer:\", max(i.distance(n) for i in deers))        \n",
    "\n",
    "for n in range(1, attime):\n",
    "    furthest = max(i.distance(n) for i in deers) \n",
    "    for i in deers:\n",
    "        if i.distance(n) == furthest:\n",
    "            i.receive_award()\n",
    "\n",
    "print (\"Points for the winning reindeer: \", max(i.tell_award() for i in deers))        "
   ]
  },
  {
   "cell_type": "code",
   "execution_count": null,
   "metadata": {
    "collapsed": true
   },
   "outputs": [],
   "source": []
  }
 ],
 "metadata": {
  "kernelspec": {
   "display_name": "Python 3",
   "language": "python",
   "name": "python3"
  },
  "language_info": {
   "codemirror_mode": {
    "name": "ipython",
    "version": 3
   },
   "file_extension": ".py",
   "mimetype": "text/x-python",
   "name": "python",
   "nbconvert_exporter": "python",
   "pygments_lexer": "ipython3",
   "version": "3.5.0"
  }
 },
 "nbformat": 4,
 "nbformat_minor": 0
}
