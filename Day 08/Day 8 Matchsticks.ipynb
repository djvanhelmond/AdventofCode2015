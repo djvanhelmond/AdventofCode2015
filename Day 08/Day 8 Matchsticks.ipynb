{
 "cells": [
  {
   "cell_type": "code",
   "execution_count": 1,
   "metadata": {
    "collapsed": true
   },
   "outputs": [],
   "source": [
    "#! /usr/bin/python"
   ]
  },
  {
   "cell_type": "code",
   "execution_count": 80,
   "metadata": {
    "collapsed": false
   },
   "outputs": [],
   "source": [
    "def read_file ( filename ):\n",
    "    all_strings = []\n",
    "    with open(filename) as f:\n",
    "        for linen in f:\n",
    "            all_strings.append(linen.rstrip('\\n'))\n",
    "    return ( all_strings )\n",
    "\n",
    "def decode ( string ):\n",
    "    hex = \"0123456789abcdef\"\n",
    "    new_string = \"\"\n",
    "    i = 0\n",
    "    while i < len(string):\n",
    "        if (string[i] == '\\\\') and (string[i+1] == 'x' and (string[i+2] in hex) and (string[i+3] in hex)):\n",
    "            new_string = new_string + chr(int(string[i+2] + string[i+3], 16))         # add one \\ for every two \\\\\n",
    "            i += 3\n",
    "        \n",
    "        elif (string[i] != '\\\\') and (string[i] != '\\\"'): \n",
    "            new_string = new_string + string[i]           # add everything that is not a \\ or \"\n",
    "        \n",
    "        elif (string[i] == '\\\\') and (string[i+1] == '\\\\'):\n",
    "            new_string = new_string + string[i+1]         # add one \\ for every two \\\\\n",
    "            i += 1\n",
    "\n",
    "        elif (string[i] == '\\\\') and (string[i+1] == '\\\"'):\n",
    "            new_string = new_string + string[i+1]         # add one \" for every  \\\"\n",
    "            i += 1\n",
    "        i += 1\n",
    "    return new_string\n",
    "\n",
    "def encode ( string ):\n",
    "    hex = \"0123456789abcdef\"\n",
    "    new_string = \"\\\"\"\n",
    "    i = 0\n",
    "    while i < len(string):\n",
    "        if (string[i] == '\\\\') or (string[i] == '\\\"'):\n",
    "            new_string = new_string + \"\\\\\" + string[i]\n",
    "        else:\n",
    "            new_string = new_string + string[i]\n",
    "        i += 1\n",
    "    new_string = new_string + \"\\\"\"\n",
    "    return new_string"
   ]
  },
  {
   "cell_type": "code",
   "execution_count": 81,
   "metadata": {
    "collapsed": false
   },
   "outputs": [],
   "source": [
    "filename = './input'\n",
    "all_strings = read_file ( filename )\n",
    "\n",
    "literals_count = 0\n",
    "decode_count = 0\n",
    "encode_count = 0\n",
    "\n",
    "# decode\n",
    "for i in all_strings:\n",
    "    decode_str = decode(i)\n",
    "    encode_str = encode(i)\n",
    "    literals_count += len(i)\n",
    "    decode_count += len(decode_str)\n",
    "    encode_count += len(encode_str)\n",
    "#    print (\"literal: {0:50s} - decode: {1:50s}\".format(i, decode_str))\n",
    "#    print (\"literal: {0:50s} - encode: {1:50s}\".format(i, encode_str))\n"
   ]
  },
  {
   "cell_type": "code",
   "execution_count": 79,
   "metadata": {
    "collapsed": false
   },
   "outputs": [
    {
     "name": "stdout",
     "output_type": "stream",
     "text": [
      "Star 1:\n",
      "literals:        6489          - decoded:     5118\n",
      "decode char:     1371\n",
      "--\n",
      "Star 2:\n",
      "literals:        6489          - encoded:     8606\n",
      "encode char:     2117\n"
     ]
    }
   ],
   "source": [
    "print (\"Star 1:\")\n",
    "print (\"literals:    {0:8d}          - decoded: {1:8d}\".format(literals_count, decode_count))\n",
    "print (\"decode char: {0:8d}\".format(literals_count-decode_count))\n",
    "print (\"--\\nStar 2:\")\n",
    "print (\"literals:    {0:8d}          - encoded: {1:8d}\".format(literals_count, encode_count))\n",
    "print (\"encode char: {0:8d}\".format(encode_count-literals_count))"
   ]
  },
  {
   "cell_type": "code",
   "execution_count": null,
   "metadata": {
    "collapsed": true
   },
   "outputs": [],
   "source": []
  },
  {
   "cell_type": "code",
   "execution_count": null,
   "metadata": {
    "collapsed": true
   },
   "outputs": [],
   "source": []
  }
 ],
 "metadata": {
  "kernelspec": {
   "display_name": "Python 3",
   "language": "python",
   "name": "python3"
  },
  "language_info": {
   "codemirror_mode": {
    "name": "ipython",
    "version": 3
   },
   "file_extension": ".py",
   "mimetype": "text/x-python",
   "name": "python",
   "nbconvert_exporter": "python",
   "pygments_lexer": "ipython3",
   "version": "3.5.0"
  }
 },
 "nbformat": 4,
 "nbformat_minor": 0
}
