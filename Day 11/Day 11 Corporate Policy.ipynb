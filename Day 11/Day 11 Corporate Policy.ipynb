{
 "cells": [
  {
   "cell_type": "code",
   "execution_count": 2,
   "metadata": {
    "collapsed": true
   },
   "outputs": [],
   "source": [
    "#!/usr/bin/python3"
   ]
  },
  {
   "cell_type": "code",
   "execution_count": 88,
   "metadata": {
    "collapsed": false
   },
   "outputs": [],
   "source": [
    "def increment_password(password):\n",
    "    # Incrementing is just like counting with numbers: xx, xy, xz, ya, yb, and so on. \n",
    "    # Increase the rightmost letter one step; if it was z, it wraps around to a, and \n",
    "    # repeat with the next letter to the left until one doesn't wrap around.\n",
    "    print (password)\n",
    "    \n",
    "    p = password[-1]\n",
    "    password = password[:-1]\n",
    "\n",
    "    print (password)\n",
    "    print (p)\n",
    "\n",
    "    \n",
    "    return False"
   ]
  },
  {
   "cell_type": "code",
   "execution_count": 89,
   "metadata": {
    "collapsed": false
   },
   "outputs": [],
   "source": [
    "def valid_password(password):\n",
    "    if not pw_policy_1(password):\n",
    "        print (\"pw1 False\")\n",
    "        return False\n",
    "    if not pw_policy_2(password):\n",
    "        print (\"pw2 False\")\n",
    "        return False\n",
    "    if not pw_policy_3(password):\n",
    "        print (\"pw3 False\")\n",
    "        return False\n",
    "    if not pw_policy_4(password):\n",
    "        print (\"pw4 False\")\n",
    "        return False\n",
    "    if not pw_policy_5(password):\n",
    "        print (\"pw5 False\")\n",
    "        return False\n",
    "    print (\"pw ok\")   \n",
    "    return True\n",
    "\n",
    "\n",
    "def pw_policy_1(password):\n",
    "    # exactly eight letters\n",
    "    if (len(password) == 8):\n",
    "        return True\n",
    "    return False\n",
    "\n",
    "def pw_policy_2(password):\n",
    "    # only lowercase letters\n",
    "    lowercase_letters = set('abcdefghijklmnopqrstuvwxyz')\n",
    "    for char in password:\n",
    "        if char not in lowercase_letters:\n",
    "            return False\n",
    "    return True\n",
    "\n",
    "def pw_policy_3(password):\n",
    "    # one increasing straight of at least three letters\n",
    "    for i in range(6):\n",
    "        if (ord(password[i+2]) - ord(password[i]) == 2) and (ord(password[i+1]) - ord(password[i]) == 1):\n",
    "            return True\n",
    "    return False\n",
    "\n",
    "def pw_policy_4(password):\n",
    "    # Passwords may not contain the letters i, o, or l\n",
    "    forbidden_letters = set('iol')\n",
    "    for char in password:\n",
    "        if char in forbidden_letters:\n",
    "            return False\n",
    "    return True\n",
    "\n",
    "def pw_policy_5(password):\n",
    "    # must contain at least two different, non-overlapping pairs of letters\n",
    "    for i in range(7):\n",
    "        if (ord(password[i]) == ord(password[i+1])):\n",
    "            return True\n",
    "    return False\n",
    "\n",
    "\n",
    "\n",
    "\n",
    "\n"
   ]
  },
  {
   "cell_type": "code",
   "execution_count": 92,
   "metadata": {
    "collapsed": false
   },
   "outputs": [
    {
     "name": "stdout",
     "output_type": "stream",
     "text": [
      "abcgjqsz\n",
      "abcgjqs\n",
      "z\n",
      "False\n"
     ]
    }
   ],
   "source": [
    "input_pw = \"abcgjqsz\"\n",
    "\n",
    "input_pw = increment_password(input_pw)\n",
    "print (input_pw)\n",
    "\n",
    "#if valid_password( input_pw ):\n",
    "#    print (input_pw)"
   ]
  },
  {
   "cell_type": "code",
   "execution_count": null,
   "metadata": {
    "collapsed": true
   },
   "outputs": [],
   "source": []
  },
  {
   "cell_type": "code",
   "execution_count": null,
   "metadata": {
    "collapsed": true
   },
   "outputs": [],
   "source": []
  }
 ],
 "metadata": {
  "kernelspec": {
   "display_name": "Python 3",
   "language": "python",
   "name": "python3"
  },
  "language_info": {
   "codemirror_mode": {
    "name": "ipython",
    "version": 3
   },
   "file_extension": ".py",
   "mimetype": "text/x-python",
   "name": "python",
   "nbconvert_exporter": "python",
   "pygments_lexer": "ipython3",
   "version": "3.5.2"
  }
 },
 "nbformat": 4,
 "nbformat_minor": 0
}
