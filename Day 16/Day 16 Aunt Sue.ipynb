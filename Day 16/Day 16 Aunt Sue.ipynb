{
 "cells": [
  {
   "cell_type": "code",
   "execution_count": 1,
   "metadata": {
    "collapsed": true
   },
   "outputs": [],
   "source": [
    "#!/usr/bin/env python3"
   ]
  },
  {
   "cell_type": "code",
   "execution_count": 2,
   "metadata": {
    "collapsed": false
   },
   "outputs": [],
   "source": [
    "class Sue:\n",
    "    def __init__(self, sue_id):\n",
    "        self.sue_id = sue_id\n",
    "        self.compound = {}\n",
    "        self.compound[\"children\"] = None\n",
    "        self.compound[\"cats\"] = None\n",
    "        self.compound[\"samoyeds\"] = None\n",
    "        self.compound[\"pomeranians\"] = None\n",
    "        self.compound[\"akitas\"] = None\n",
    "        self.compound[\"vizslas\"] = None\n",
    "        self.compound[\"goldfish\"] = None\n",
    "        self.compound[\"trees\"] = None\n",
    "        self.compound[\"cars\"] = None\n",
    "        self.compound[\"perfumes\"] = None\n",
    "\n",
    "    def set_compound_value(self, compound, value):\n",
    "        self.compound[compound] = value\n",
    "\n",
    "    def is_match_star_1(self, match):\n",
    "#        print (\"self: \", self.compound)\n",
    "#        print (\"match: \", match)\n",
    "        for n in self.compound:\n",
    "            if self.compound[n] != None:\n",
    "                if self.compound[n] != match[n]:\n",
    "                    return False\n",
    "        return True\n",
    "\n",
    "    def is_match_star_2(self, match):\n",
    "#        print (\"self: \", self.compound)\n",
    "#        print (\"match: \", match)\n",
    "        for n in [\"children\", \"samoyeds\", \"akitas\", \"vizslas\", \"cars\", \"perfumes\"]:\n",
    "            if self.compound[n] != None:\n",
    "                if self.compound[n] != match[n]:\n",
    "                    return False\n",
    "        if self.compound[\"cats\"] != None:\n",
    "            if self.compound[\"cats\"] < match[\"cats\"]:\n",
    "                return False\n",
    "        if self.compound[\"trees\"] != None:\n",
    "            if self.compound[\"trees\"] < match[\"trees\"]:\n",
    "                return False\n",
    "        if self.compound[\"pomeranians\"] != None:\n",
    "            if self.compound[\"pomeranians\"] > match[\"pomeranians\"]:\n",
    "                return False\n",
    "        if self.compound[\"goldfish\"] != None:\n",
    "            if self.compound[\"goldfish\"] > match[\"goldfish\"]:\n",
    "                return False\n",
    "        return True\n",
    "\n",
    "    def give_id(self):\n",
    "        return self.sue_id\n"
   ]
  },
  {
   "cell_type": "code",
   "execution_count": 3,
   "metadata": {
    "collapsed": false
   },
   "outputs": [
    {
     "name": "stdout",
     "output_type": "stream",
     "text": [
      "Star 1:  40\n",
      "Star 2:  40\n",
      "Star 2:  241\n"
     ]
    }
   ],
   "source": [
    "filename = './input'\n",
    "sues = []\n",
    "\n",
    "match = {}\n",
    "match[\"children\"] = 3\n",
    "match[\"cats\"] = 7\n",
    "match[\"samoyeds\"] = 2\n",
    "match[\"pomeranians\"] = 3\n",
    "match[\"akitas\"] = 0\n",
    "match[\"vizslas\"] = 0\n",
    "match[\"goldfish\"] = 5\n",
    "match[\"trees\"] = 3\n",
    "match[\"cars\"] = 2\n",
    "match[\"perfumes\"] = 1\n",
    "\n",
    "\n",
    "with open(filename) as f:\n",
    "    for line in f:\n",
    "        sue_text = _, _, _, _, _, _, _, _ = line.replace(':','').replace(',','').split()\n",
    "        sue = Sue(sue_text[1])\n",
    "        sue.set_compound_value(sue_text[2],int(sue_text[3]))\n",
    "        sue.set_compound_value(sue_text[4],int(sue_text[5]))\n",
    "        sue.set_compound_value(sue_text[6],int(sue_text[7]))\n",
    "        sues.append(sue)\n",
    "\n",
    "for i in range(0,len(sues)):\n",
    "    if sues[i].is_match_star_1(match):\n",
    "        print (\"Star 1: \",sues[i].give_id())\n",
    "\n",
    "for i in range(0,len(sues)):\n",
    "    if sues[i].is_match_star_2(match):\n",
    "        print (\"Star 2: \",sues[i].give_id())\n",
    "\n",
    "\n",
    "\n"
   ]
  },
  {
   "cell_type": "code",
   "execution_count": null,
   "metadata": {
    "collapsed": true
   },
   "outputs": [],
   "source": []
  },
  {
   "cell_type": "code",
   "execution_count": null,
   "metadata": {
    "collapsed": true
   },
   "outputs": [],
   "source": []
  }
 ],
 "metadata": {
  "kernelspec": {
   "display_name": "Python 3",
   "language": "python",
   "name": "python3"
  },
  "language_info": {
   "codemirror_mode": {
    "name": "ipython",
    "version": 3
   },
   "file_extension": ".py",
   "mimetype": "text/x-python",
   "name": "python",
   "nbconvert_exporter": "python",
   "pygments_lexer": "ipython3",
   "version": "3.5.0"
  }
 },
 "nbformat": 4,
 "nbformat_minor": 0
}
